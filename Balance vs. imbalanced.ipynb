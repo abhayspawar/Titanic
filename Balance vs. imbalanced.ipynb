{
 "cells": [
  {
   "cell_type": "markdown",
   "metadata": {},
   "source": [
    "# Titanic dataset from kaggle"
   ]
  },
  {
   "cell_type": "code",
   "execution_count": 160,
   "metadata": {},
   "outputs": [],
   "source": [
    "# Data link: https://www.kaggle.com/c/titanic/data\n",
    "import pandas as pd\n",
    "from sklearn.ensemble import RandomForestClassifier\n",
    "from sklearn.model_selection import train_test_split\n",
    "from sklearn.metrics import roc_auc_score\n",
    "from sklearn.metrics import confusion_matrix\n"
   ]
  },
  {
   "cell_type": "code",
   "execution_count": 146,
   "metadata": {},
   "outputs": [],
   "source": [
    "train = pd.read_csv('train.csv')\n",
    "cat_features = ['Sex', 'Embarked']\n",
    "num_features = ['Pclass', 'Age', 'SibSp', 'Parch', 'Fare']\n",
    "X = train[cat_features+num_features]\n",
    "X = pd.get_dummies(X, columns=cat_features)\n",
    "y = train['Survived']\n",
    "X['Age'] = X['Age'].fillna(X['Age'].mean())\n",
    "X_train, X_test, y_train, y_test = train_test_split(X, y, test_size=0.25, random_state=4)\n"
   ]
  },
  {
   "cell_type": "code",
   "execution_count": 158,
   "metadata": {},
   "outputs": [
    {
     "name": "stdout",
     "output_type": "stream",
     "text": [
      "Baseline test accuracy 0.6726457399103138\n"
     ]
    }
   ],
   "source": [
    "# Baseline accuracy. Predict no one survived. Predict y=0 for all\n",
    "print('Baseline test accuracy', 1-y_test.mean())"
   ]
  },
  {
   "cell_type": "markdown",
   "metadata": {},
   "source": [
    "## No balancing"
   ]
  },
  {
   "cell_type": "code",
   "execution_count": 153,
   "metadata": {},
   "outputs": [
    {
     "name": "stdout",
     "output_type": "stream",
     "text": [
      "AUC on train 0.9056749680893684\n",
      "AUC on test 0.8614155251141553\n",
      "Accuracy on train 0.8278443113772455\n",
      "Accuracy on test 0.8161434977578476\n",
      "Confusion matric on train\n",
      "[[338  61]\n",
      " [ 54 215]]\n",
      "Confusion matric on test\n",
      "[[127  23]\n",
      " [ 18  55]]\n"
     ]
    }
   ],
   "source": [
    "rf = RandomForestClassifier(n_estimators=100, criterion='gini', max_depth=5, min_samples_split=5, \n",
    "                            min_samples_leaf=5, random_state = 3)\n",
    "rf.fit(X_train, y_train)      \n",
    "\n",
    "y_pred_train = rf.predict_proba(X_train)[:, 1]\n",
    "y_pred_test = rf.predict_proba(X_test)[:, 1]\n",
    "\n",
    "# use mean of y_train to convert probabailities to binary label\n",
    "y_train_labels = (y_pred_train>y_train.mean()).astype(int) \n",
    "y_test_labels = (y_pred_test>y_train.mean()).astype(int)\n",
    "\n",
    "print('AUC on train', roc_auc_score(y_train, y_pred_train))\n",
    "print('AUC on test', roc_auc_score(y_test, y_pred_test))\n",
    "\n",
    "print('Accuracy on train', (y_train_labels==y_train).mean())\n",
    "print('Accuracy on test', (y_test_labels==y_test).mean())\n",
    "\n",
    "print('Confusion matric on train')\n",
    "print(confusion_matrix(y_train, y_train_labels))\n",
    "print('Confusion matric on test')\n",
    "print(confusion_matrix(y_test, y_test_labels))"
   ]
  },
  {
   "cell_type": "markdown",
   "metadata": {},
   "source": [
    "## Balancing by using class_weight='balanced' param in RF"
   ]
  },
  {
   "cell_type": "code",
   "execution_count": 154,
   "metadata": {},
   "outputs": [
    {
     "name": "stdout",
     "output_type": "stream",
     "text": [
      "AUC on train 0.9058892584621405\n",
      "AUC on test 0.8655707762557077\n",
      "Accuracy on train 0.8323353293413174\n",
      "Accuracy on test 0.8161434977578476\n",
      "Confusion matric on train\n",
      "[[344  55]\n",
      " [ 57 212]]\n",
      "Confusion matric on test\n",
      "[[128  22]\n",
      " [ 19  54]]\n"
     ]
    }
   ],
   "source": [
    "# Do balancing with class_weight='balanced'\n",
    "rf = RandomForestClassifier(n_estimators=100, criterion='gini', max_depth=5, min_samples_split=5, \n",
    "                            min_samples_leaf=5, class_weight='balanced', random_state = 3)\n",
    "rf.fit(X_train, y_train)      \n",
    "\n",
    "y_pred_train = rf.predict_proba(X_train)[:, 1]\n",
    "y_pred_test = rf.predict_proba(X_test)[:, 1]\n",
    "\n",
    "y_train_labels = (y_pred_train>0.5).astype(int)\n",
    "y_test_labels = (y_pred_test>0.5).astype(int)\n",
    "\n",
    "print('AUC on train', roc_auc_score(y_train, y_pred_train))\n",
    "print('AUC on test', roc_auc_score(y_test, y_pred_test))\n",
    "\n",
    "print('Accuracy on train', (y_train_labels==y_train).mean())\n",
    "print('Accuracy on test', (y_test_labels==y_test).mean())\n",
    "\n",
    "print('Confusion matric on train')\n",
    "print(confusion_matrix(y_train, y_train_labels))\n",
    "print('Confusion matric on test')\n",
    "print(confusion_matrix(y_test, y_test_labels))"
   ]
  }
 ],
 "metadata": {
  "kernelspec": {
   "display_name": "Python 3",
   "language": "python",
   "name": "python3"
  },
  "language_info": {
   "codemirror_mode": {
    "name": "ipython",
    "version": 3
   },
   "file_extension": ".py",
   "mimetype": "text/x-python",
   "name": "python",
   "nbconvert_exporter": "python",
   "pygments_lexer": "ipython3",
   "version": "3.7.1"
  }
 },
 "nbformat": 4,
 "nbformat_minor": 2
}
